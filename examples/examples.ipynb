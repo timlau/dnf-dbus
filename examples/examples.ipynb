{
 "metadata": {
  "language_info": {
   "codemirror_mode": {
    "name": "ipython",
    "version": 3
   },
   "file_extension": ".py",
   "mimetype": "text/x-python",
   "name": "python",
   "nbconvert_exporter": "python",
   "pygments_lexer": "ipython3",
   "version": "3.9.5"
  },
  "orig_nbformat": 4,
  "kernelspec": {
   "name": "python3",
   "display_name": "Python 3.9.5 64-bit"
  },
  "interpreter": {
   "hash": "767d51c1340bd893661ea55ea3124f6de3c7a262a8b4abca0554b478b1e2ff90"
  }
 },
 "nbformat": 4,
 "nbformat_minor": 2,
 "cells": [
  {
   "cell_type": "code",
   "execution_count": 4,
   "metadata": {},
   "outputs": [
    {
     "output_type": "stream",
     "name": "stdout",
     "text": [
      "Version : 1.0\n",
      "qt6-qtquick3d-6.1.0-1.fc34.x86_64\n",
      "qt6-qtquick3d-devel-6.1.0-1.fc34.x86_64\n",
      "qt6-qtquick3d-examples-6.1.0-1.fc34.x86_64\n",
      "qt6-qtquickcontrols2-6.1.0-1.fc34.x86_64\n",
      "qt6-qtquickcontrols2-devel-6.1.0-1.fc34.x86_64\n",
      "qt6-qtquickcontrols2-examples-6.1.0-1.fc34.x86_64\n",
      "qt6-qtquicktimeline-6.1.0-1.fc34.x86_64\n",
      "qt6-qtquicktimeline-devel-6.1.0-1.fc34.x86_64\n",
      "qt6-qtquick3d-6.0.1-1.fc34.i686\n",
      "qt6-qtquick3d-6.0.1-1.fc34.x86_64\n",
      "qt6-qtquick3d-devel-6.0.1-1.fc34.i686\n",
      "qt6-qtquick3d-devel-6.0.1-1.fc34.x86_64\n",
      "qt6-qtquick3d-examples-6.0.1-1.fc34.x86_64\n",
      "qt6-qtquickcontrols2-6.0.1-1.fc34.i686\n",
      "qt6-qtquickcontrols2-6.0.1-1.fc34.x86_64\n",
      "qt6-qtquickcontrols2-devel-6.0.1-1.fc34.i686\n",
      "qt6-qtquickcontrols2-devel-6.0.1-1.fc34.x86_64\n",
      "qt6-qtquickcontrols2-examples-6.0.1-1.fc34.x86_64\n",
      "qt6-qtquicktimeline-6.0.1-1.fc34.i686\n",
      "qt6-qtquicktimeline-6.0.1-1.fc34.x86_64\n",
      "qt6-qtquicktimeline-devel-6.0.1-1.fc34.i686\n",
      "qt6-qtquicktimeline-devel-6.0.1-1.fc34.x86_64\n",
      "qt6-qtquick3d-6.1.0-1.fc34.i686\n",
      "qt6-qtquick3d-6.1.0-1.fc34.x86_64\n",
      "qt6-qtquick3d-devel-6.1.0-1.fc34.i686\n",
      "qt6-qtquick3d-devel-6.1.0-1.fc34.x86_64\n",
      "qt6-qtquick3d-examples-6.1.0-1.fc34.x86_64\n",
      "qt6-qtquickcontrols2-6.1.0-1.fc34.i686\n",
      "qt6-qtquickcontrols2-6.1.0-1.fc34.x86_64\n",
      "qt6-qtquickcontrols2-devel-6.1.0-1.fc34.i686\n",
      "qt6-qtquickcontrols2-devel-6.1.0-1.fc34.x86_64\n",
      "qt6-qtquickcontrols2-examples-6.1.0-1.fc34.x86_64\n",
      "qt6-qtquicktimeline-6.1.0-1.fc34.i686\n",
      "qt6-qtquicktimeline-6.1.0-1.fc34.x86_64\n",
      "qt6-qtquicktimeline-devel-6.1.0-1.fc34.i686\n",
      "qt6-qtquicktimeline-devel-6.1.0-1.fc34.x86_64\n"
     ]
    }
   ],
   "source": [
    "from dnfdbus.client import DnfDbusClient\n",
    "\n",
    "# Setup client to talk to the DnfDbus Backend\n",
    "with DnfDbusClient() as client:\n",
    "    print(client.version)\n",
    "\n",
    "    # Get packages matching at filter with wildcards\n",
    "    pkgs = client.get_packages_by_key(\"*qt6-qtquick*\")\n",
    "    for pkg in pkgs:\n",
    "        print(pkg)\n"
   ]
  },
  {
   "cell_type": "code",
   "execution_count": 2,
   "metadata": {},
   "outputs": [
    {
     "output_type": "stream",
     "name": "stdout",
     "text": [
      "Version : 1.0\n",
      "\n",
      "====> get_package_attribute(qt6-assistant-6.1.0-2.fc34.x86_64)\n",
      "\n",
      "RESULT:\n",
      "[['qt6-assistant-0:6.1.0-2.fc34.x86_64',\n",
      "  '@System',\n",
      "  'Documentation browser for Qt6.']]\n",
      "RESULT:\n",
      "[['qt6-assistant-0:6.1.0-2.fc34.x86_64', '@System', []]]\n",
      "\n",
      "====> get_package_attribute(qt6-assistant-6.1.0-2.fc34.x86_64)\n",
      "\n",
      "RESULT:\n",
      "[['qt6-assistant-0:6.1.0-2.fc34.x86_64',\n",
      "  '@System',\n",
      "  'Documentation browser for Qt6.'],\n",
      " ['qt6-assistant-0:6.1.0-2.fc34.x86_64',\n",
      "  'updates',\n",
      "  'Documentation browser for Qt6.']]\n"
     ]
    }
   ],
   "source": [
    "from pprint import pprint\n",
    "\n",
    "from dnfdbus.client import DnfDbusClient\n",
    "\n",
    "# Setup client to talk to the DnfDbus Backend\n",
    "with DnfDbusClient() as client:\n",
    "    print(client.version)\n",
    "\n",
    "    pkg = 'qt6-assistant-6.1.0-2.fc34.x86_64'\n",
    "    print(f'\\n====> get_package_attribute({pkg})\\n')\n",
    "    res = client.get_package_attribute(pkg, '@System','description')\n",
    "    print(\"RESULT:\")\n",
    "    pprint(res)\n",
    "    res = client.get_package_attribute(pkg, '@System', 'changelog')\n",
    "    print(\"RESULT:\")\n",
    "    pprint(res)\n",
    "    pkg = 'qt6-assistant-6.1.0-2.fc34.x86_64'\n",
    "    print(f'\\n====> get_package_attribute({pkg})\\n')\n",
    "    res = client.get_package_attribute(pkg, '', 'description')\n",
    "    print(\"RESULT:\")\n",
    "    pprint(res)\n"
   ]
  },
  {
   "cell_type": "code",
   "execution_count": 3,
   "metadata": {},
   "outputs": [
    {
     "output_type": "stream",
     "name": "stdout",
     "text": [
      "Version : 1.0\n",
      "================ Installed (3321) ===================\n",
      "================ Available (65600) ===================\n",
      "================ Updates (37) ===================\n"
     ]
    }
   ],
   "source": [
    "from dnfdbus.client import DnfDbusClient\n",
    "\n",
    "# Setup client to talk to the DnfDbus Backend\n",
    "with DnfDbusClient() as client:\n",
    "    print(client.version)\n",
    "\n",
    "    # Get packages matching at filter with wildcards\n",
    "    pkgs = client.get_packages_by_filter(\"installed\", True)\n",
    "    print(f\"================ Installed ({len(pkgs)}) ===================\")\n",
    "    # for pkg in pkgs:\n",
    "        # print(f'{pkg}  : {pkg.summary} : {pkg.size}')\n",
    "    pkgs = client.get_packages_by_filter(\"available\", True)\n",
    "    print(f\"================ Available ({len(pkgs)}) ===================\")\n",
    "    # for pkg in pkgs:\n",
    "        # print(f'{pkg}  : {pkg.summary} : {pkg.size}')\n",
    "    pkgs = client.get_packages_by_filter(\"updates\")\n",
    "    print(f\"================ Updates ({len(pkgs)}) ===================\")\n"
   ]
  },
  {
   "cell_type": "code",
   "execution_count": null,
   "metadata": {},
   "outputs": [],
   "source": []
  }
 ]
}